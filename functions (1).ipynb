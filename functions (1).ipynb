{
  "cells": [
    {
      "cell_type": "code",
      "source": [],
      "metadata": {
        "id": "q4DF4aXU5Kn2"
      },
      "execution_count": null,
      "outputs": []
    },
    {
      "cell_type": "markdown",
      "metadata": {
        "id": "p_IiVgYazFMy"
      },
      "source": [
        "1. What is the difference between a function and a method in Python?\n",
        "   - In Python, a function is a block of reusable code that performs a specific task, defined using the def keyword. Functions can be called independently and are not tied to any particular object. They can take arguments, perform operations, and return results. On the other hand, a method is similar to a function but is associated with an object and is defined within a class.\n",
        "   \n",
        "    Methods operate on data contained within the class (i.e., the instance of the class) and can manipulate the object's attributes or perform operations using the object's data. While functions are used more broadly, methods are invoked on objects and have access to the object's internal state via the self parameter.\n",
        "\n",
        "\n",
        "\n",
        "\n",
        "\n",
        "\n",
        "\n"
      ]
    },
    {
      "cell_type": "code",
      "execution_count": null,
      "metadata": {
        "colab": {
          "base_uri": "https://localhost:8080/"
        },
        "id": "MPrNUbiizk7f",
        "outputId": "6a5f4662-db98-45a8-8ac7-1311f83ed4ff"
      },
      "outputs": [
        {
          "name": "stdout",
          "output_type": "stream",
          "text": [
            "<function cal_sum at 0x7dab19e8d620>\n"
          ]
        },
        {
          "data": {
            "text/plain": [
              "8"
            ]
          },
          "execution_count": 1,
          "metadata": {},
          "output_type": "execute_result"
        }
      ],
      "source": [
        "#2.Explain the concept of function arguments and parameters in Python\n",
        "# Parameters are the variables listed in a function's definition. They act as placeholders for the values that will be passed to the function when it is called. Parameters define what kind of data the function can accept. For example, in the function definition def add(a, b):, a and b are parameters.\n",
        "# Arguments are the actual values or data you provide to a function when you call it. These arguments are assigned to the corresponding parameters in the function definition. For example, in the function call add(3, 5), 3 and 5 are arguments that correspond to the parameters a and b.\n",
        "\n",
        "def cal_sum(a,b): #>> a and b are the parameters\n",
        "  return a+b\n",
        "sum= cal_sum\n",
        "print(sum)\n",
        "cal_sum(3,5) #functioanl call"
      ]
    },
    {
      "cell_type": "code",
      "execution_count": null,
      "metadata": {
        "colab": {
          "base_uri": "https://localhost:8080/",
          "height": 35
        },
        "id": "dJ6erX7H0aTh",
        "outputId": "e1815d81-3c71-4122-884f-a0dc5e1d4dd8"
      },
      "outputs": [
        {
          "data": {
            "application/vnd.google.colaboratory.intrinsic+json": {
              "type": "string"
            },
            "text/plain": [
              "'Hello, akanksha!'"
            ]
          },
          "execution_count": 2,
          "metadata": {},
          "output_type": "execute_result"
        }
      ],
      "source": [
        "# 3.What are the different ways to define and call a function in Python\n",
        "# different ways to define and call function are :\n",
        "\n",
        "# simple function\n",
        "def greet(name):\n",
        "    return f\"Hello, {name}!\"\n",
        "greet(\"akanksha\")\n"
      ]
    },
    {
      "cell_type": "code",
      "execution_count": null,
      "metadata": {
        "colab": {
          "base_uri": "https://localhost:8080/",
          "height": 35
        },
        "id": "IpYmWjpr1KHC",
        "outputId": "cb7dfa78-5f4d-4cde-8711-bb734669a21c"
      },
      "outputs": [
        {
          "data": {
            "application/vnd.google.colaboratory.intrinsic+json": {
              "type": "string"
            },
            "text/plain": [
              "'Hello, Guest!'"
            ]
          },
          "execution_count": 4,
          "metadata": {},
          "output_type": "execute_result"
        }
      ],
      "source": [
        "# function with default argument\n",
        "def greet(name=\"Guest\"):\n",
        "    return f\"Hello, {name}!\"\n",
        "greet(name=\"Guest\")\n"
      ]
    },
    {
      "cell_type": "code",
      "execution_count": null,
      "metadata": {
        "colab": {
          "base_uri": "https://localhost:8080/"
        },
        "id": "IQci309G1Z6h",
        "outputId": "1d722fe9-c1b1-4424-ffdd-82ef42104bf5"
      },
      "outputs": [
        {
          "name": "stdout",
          "output_type": "stream",
          "text": [
            "name:akanksha\n"
          ]
        }
      ],
      "source": [
        "# function with keywords arguments\n",
        "def print_info(**kwargs):\n",
        "  for key,value in kwargs.items():\n",
        "    print(f\"{key}:{value}\")\n",
        "print_info(name=\"akanksha\")\n"
      ]
    },
    {
      "cell_type": "code",
      "execution_count": null,
      "metadata": {
        "colab": {
          "base_uri": "https://localhost:8080/"
        },
        "id": "IBNrVbNv2oko",
        "outputId": "096c4709-783c-4d9f-9f50-3d966f104542"
      },
      "outputs": [
        {
          "data": {
            "text/plain": [
              "(1, 2, 3, 4, 5)"
            ]
          },
          "execution_count": 12,
          "metadata": {},
          "output_type": "execute_result"
        }
      ],
      "source": [
        "# variable length argument\n",
        "# *args: Collects additional positional arguments into a tuple\n",
        "def add_numbers(*args):\n",
        "    return(args)\n",
        "add_numbers(1,2,3,4,5)\n"
      ]
    },
    {
      "cell_type": "code",
      "execution_count": null,
      "metadata": {
        "colab": {
          "base_uri": "https://localhost:8080/"
        },
        "id": "_rTITL7i4fOY",
        "outputId": "90c414d8-b0dc-42ef-c3a3-cdcb980f5911"
      },
      "outputs": [
        {
          "data": {
            "text/plain": [
              "5"
            ]
          },
          "execution_count": 14,
          "metadata": {},
          "output_type": "execute_result"
        }
      ],
      "source": [
        "# lambda function\n",
        "add =lambda x,y:x+y\n",
        "add(2,3)"
      ]
    },
    {
      "cell_type": "code",
      "execution_count": null,
      "metadata": {
        "colab": {
          "base_uri": "https://localhost:8080/"
        },
        "id": "LtZQI8yW4nKX",
        "outputId": "3c15d34c-6ac2-4ce2-d4fc-7e3e0395ef99"
      },
      "outputs": [
        {
          "name": "stdout",
          "output_type": "stream",
          "text": [
            "<function cal_sum at 0x7dab19ca0b80>\n"
          ]
        },
        {
          "data": {
            "text/plain": [
              "8"
            ]
          },
          "execution_count": 15,
          "metadata": {},
          "output_type": "execute_result"
        }
      ],
      "source": [
        "# 4.What is the purpose of the `return` statement in a Python function ?\n",
        " # The primary purpose of the return statement is to send a value back to the caller of the function. This allows the function to produce a result that can be used elsewhere in the program.\n",
        "def cal_sum(a,b):\n",
        "  return a+b\n",
        "sum=cal_sum\n",
        "print(sum)\n",
        "cal_sum(3,5)\n"
      ]
    },
    {
      "cell_type": "code",
      "execution_count": null,
      "metadata": {
        "colab": {
          "base_uri": "https://localhost:8080/"
        },
        "id": "Fhx54IeS5McD",
        "outputId": "925cd252-4006-4a94-adcb-307dd439115f"
      },
      "outputs": [
        {
          "name": "stdout",
          "output_type": "stream",
          "text": [
            "1 2\n"
          ]
        }
      ],
      "source": [
        "def get_coordinates(x,y):\n",
        "  return x,y\n",
        "x,y = get_coordinates(1,2)\n",
        "print(x,y)"
      ]
    },
    {
      "cell_type": "code",
      "execution_count": null,
      "metadata": {
        "colab": {
          "base_uri": "https://localhost:8080/"
        },
        "id": "uahlgbt85gbR",
        "outputId": "18222cfd-7b12-490b-d776-ccf1b7d3d7d1"
      },
      "outputs": [
        {
          "name": "stdout",
          "output_type": "stream",
          "text": [
            "1\n",
            "2\n",
            "3\n"
          ]
        }
      ],
      "source": [
        " # 5. What are iterators in Python and how do they differ from iterables?\n",
        " # In Python, iterators and iterables are related concepts used to traverse collections of data, but they have distinct roles:\n",
        "\n",
        "# ITERABLES >> An iterable is any object that can return its elements one at a time. This includes objects like lists, tuples, strings, dictionaries, sets, and even custom objects that implement the __iter__() method.\n",
        "# ITERATORS >> An iterator is an object that represents a stream of data and knows how to iterate over an iterable. It implements two methods: __iter__() (which returns the iterator object itself) and __next__() (which returns the next item in the sequence).\n",
        "\n",
        "my_list=[1,2,3]\n",
        "my_iter=iter(my_list)\n",
        "print(next(my_iter))\n",
        "print(next(my_iter))\n",
        "print(next(my_iter))\n"
      ]
    },
    {
      "cell_type": "code",
      "execution_count": null,
      "metadata": {
        "colab": {
          "base_uri": "https://localhost:8080/"
        },
        "id": "QxjvdgWr6wA9",
        "outputId": "fa65fa76-c4d7-4a77-99f0-800f5eba3bca"
      },
      "outputs": [
        {
          "data": {
            "text/plain": [
              "0"
            ]
          },
          "execution_count": 28,
          "metadata": {},
          "output_type": "execute_result"
        }
      ],
      "source": [
        "# 6.Explain the concept of generators in Python and how they are defined.\n",
        "# Generators in Python are a special kind of iterator that allows you to iterate over a sequence of values one at a time without having to generate and store the entire sequence in memory all at once. This makes them especially useful for handling large datasets or streams of data.\n",
        "def square_numbers_generator(n):\n",
        "  for i in range(n):\n",
        "    yield i*i\n",
        "gen=square_numbers_generator(5)\n",
        "next(gen)"
      ]
    },
    {
      "cell_type": "code",
      "execution_count": null,
      "metadata": {
        "colab": {
          "base_uri": "https://localhost:8080/"
        },
        "id": "weOMTRoG8UTX",
        "outputId": "85425ef7-18d4-4cf7-9f04-54ae69e7680a"
      },
      "outputs": [
        {
          "data": {
            "text/plain": [
              "1"
            ]
          },
          "execution_count": 29,
          "metadata": {},
          "output_type": "execute_result"
        }
      ],
      "source": [
        "next(gen)"
      ]
    },
    {
      "cell_type": "code",
      "execution_count": null,
      "metadata": {
        "colab": {
          "base_uri": "https://localhost:8080/"
        },
        "id": "DjREQzGV8Wmf",
        "outputId": "33ba6a46-eb3f-4d2b-e108-620e146253e6"
      },
      "outputs": [
        {
          "data": {
            "text/plain": [
              "4"
            ]
          },
          "execution_count": 30,
          "metadata": {},
          "output_type": "execute_result"
        }
      ],
      "source": [
        "next(gen)"
      ]
    },
    {
      "cell_type": "code",
      "execution_count": null,
      "metadata": {
        "colab": {
          "base_uri": "https://localhost:8080/"
        },
        "id": "z0JfVvp18Y5m",
        "outputId": "54db1f52-6c8c-45c4-ea10-ab677329b8e4"
      },
      "outputs": [
        {
          "data": {
            "text/plain": [
              "9"
            ]
          },
          "execution_count": 31,
          "metadata": {},
          "output_type": "execute_result"
        }
      ],
      "source": [
        "next(gen)"
      ]
    },
    {
      "cell_type": "code",
      "execution_count": null,
      "metadata": {
        "colab": {
          "base_uri": "https://localhost:8080/"
        },
        "id": "Xov8uReq8bOx",
        "outputId": "a840c8b5-66c2-4312-8cbc-c9e280f2d70d"
      },
      "outputs": [
        {
          "data": {
            "text/plain": [
              "16"
            ]
          },
          "execution_count": 32,
          "metadata": {},
          "output_type": "execute_result"
        }
      ],
      "source": [
        "next(gen)"
      ]
    },
    {
      "cell_type": "markdown",
      "metadata": {
        "id": "H0ra9EW48iCD"
      },
      "source": [
        " 7.  What are the advantages of using generators over regular functions?\n",
        "    - In the generator example, numbers are yielded one at a time, keeping memory usage minimal. In contrast, the regular function constructs a large list in memory before iteration begins, which can be inefficient for large ranges.\n",
        "\n",
        "       Generators offer significant advantages in terms of memory usage, performance, simplicity, and scalability, making them a powerful tool in scenarios involving large datasets, streaming data, or complex pipelines.\n",
        "\n",
        "\n",
        "\n",
        "\n",
        "\n",
        "\n",
        "\n",
        "\n",
        "\n",
        "\n",
        "\n",
        "\n",
        "\n",
        "\n"
      ]
    },
    {
      "cell_type": "code",
      "execution_count": null,
      "metadata": {
        "colab": {
          "base_uri": "https://localhost:8080/"
        },
        "id": "gpAAtEqy9aQt",
        "outputId": "148c2b74-9f37-4efc-e9fc-91345c44cfea"
      },
      "outputs": [
        {
          "data": {
            "text/plain": [
              "1"
            ]
          },
          "execution_count": 35,
          "metadata": {},
          "output_type": "execute_result"
        }
      ],
      "source": [
        "# example\n",
        "def generate_number(n):\n",
        "  for i in range (n):\n",
        "    yield i\n",
        "gen=generate_number(1000000)\n",
        "next(gen)\n",
        "next(gen)"
      ]
    },
    {
      "cell_type": "markdown",
      "metadata": {
        "id": "x2-P_XtY-MOd"
      },
      "source": [
        "8. What is a lambda function in Python and when is it typically used?\n",
        "   - A lambda function in Python is a small, anonymous function defined using the lambda keyword. It can have any number of arguments but only one expression. The expression is evaluated and returned when the function is called. Lambda functions are often used for short, simple operations that are not complex enough to require a full function definition."
      ]
    },
    {
      "cell_type": "code",
      "execution_count": null,
      "metadata": {
        "colab": {
          "base_uri": "https://localhost:8080/"
        },
        "id": "6sVVLc3K-oPN",
        "outputId": "4067807d-a6d8-40f8-d1c5-334a1d8c89a6"
      },
      "outputs": [
        {
          "data": {
            "text/plain": [
              "7"
            ]
          },
          "execution_count": 36,
          "metadata": {},
          "output_type": "execute_result"
        }
      ],
      "source": [
        "# examples\n",
        "add =lambda x,y:x+y\n",
        "add(3,4)"
      ]
    },
    {
      "cell_type": "code",
      "execution_count": null,
      "metadata": {
        "colab": {
          "base_uri": "https://localhost:8080/"
        },
        "id": "Mr2vwgMy-0HL",
        "outputId": "e68ce001-dfb4-4c1b-8d7b-ec20350f5fde"
      },
      "outputs": [
        {
          "data": {
            "text/plain": [
              "[1, 2, 3, 4, 5]"
            ]
          },
          "execution_count": 37,
          "metadata": {},
          "output_type": "execute_result"
        }
      ],
      "source": [
        "# lambda function with map function to square number\n",
        "l=[1,2,3,4,5]\n",
        "l"
      ]
    },
    {
      "cell_type": "code",
      "execution_count": null,
      "metadata": {
        "colab": {
          "base_uri": "https://localhost:8080/"
        },
        "id": "73sGU7C0_Gzs",
        "outputId": "9dcadf1d-2db7-4a4f-c1bf-c4c79c056001"
      },
      "outputs": [
        {
          "data": {
            "text/plain": [
              "[1, 4, 9, 16, 25]"
            ]
          },
          "execution_count": 38,
          "metadata": {},
          "output_type": "execute_result"
        }
      ],
      "source": [
        "def square(x):\n",
        "  return x*x\n",
        "list(map(square,l))"
      ]
    },
    {
      "cell_type": "code",
      "execution_count": null,
      "metadata": {
        "colab": {
          "base_uri": "https://localhost:8080/"
        },
        "id": "yDka_EbI_Rbj",
        "outputId": "36732b58-f438-4599-be22-aab3284ff364"
      },
      "outputs": [
        {
          "data": {
            "text/plain": [
              "[2, 4]"
            ]
          },
          "execution_count": 39,
          "metadata": {},
          "output_type": "execute_result"
        }
      ],
      "source": [
        "# lambda function with filter to get even number\n",
        "list(filter(lambda x:x%2==0,l))"
      ]
    },
    {
      "cell_type": "markdown",
      "metadata": {
        "id": "ZOlZeqJ7_8fU"
      },
      "source": [
        "9.  Explain the purpose and usage of the `map()` function in Python.\n",
        "   - The map() function in Python is used to apply a specified function to each item in an iterable (like a list, tuple, etc.) and return a map object (an iterator) containing the results. It provides a concise and functional approach to transforming data."
      ]
    },
    {
      "cell_type": "code",
      "execution_count": null,
      "metadata": {
        "colab": {
          "base_uri": "https://localhost:8080/"
        },
        "id": "sH9jd1quARKx",
        "outputId": "a0860b70-7c0f-433b-853e-5ca99cf46d99"
      },
      "outputs": [
        {
          "data": {
            "text/plain": [
              "['HELLO', 'WORLD']"
            ]
          },
          "execution_count": 40,
          "metadata": {},
          "output_type": "execute_result"
        }
      ],
      "source": [
        "# examples\n",
        "# Transforming Data:\n",
        "words= (\"hello\",\"world\")\n",
        "list(map(lambda x:x.upper(),words))"
      ]
    },
    {
      "cell_type": "code",
      "execution_count": null,
      "metadata": {
        "colab": {
          "base_uri": "https://localhost:8080/"
        },
        "id": "kZS_5AVpA9e2",
        "outputId": "3974e8c0-8b7f-42c2-ce7c-501d8406dbf8"
      },
      "outputs": [
        {
          "data": {
            "text/plain": [
              "[2, 3, 4, 5]"
            ]
          },
          "execution_count": 41,
          "metadata": {},
          "output_type": "execute_result"
        }
      ],
      "source": [
        "# TYPE CASTING\n",
        "numbers=[\"2\",\"3\",\"4\",\"5\"]\n",
        "list(map(lambda x:int(x),numbers))"
      ]
    },
    {
      "cell_type": "code",
      "execution_count": null,
      "metadata": {
        "colab": {
          "base_uri": "https://localhost:8080/"
        },
        "id": "7KsJ7fp8BVJI",
        "outputId": "51c0db2f-b611-4b9f-dfa8-a21ac5f9981b"
      },
      "outputs": [
        {
          "data": {
            "text/plain": [
              "[3, 5, 7, 9]"
            ]
          },
          "execution_count": 42,
          "metadata": {},
          "output_type": "execute_result"
        }
      ],
      "source": [
        "# APPLYING FUNCTION TO MULTIPLE LIST\n",
        "l1=[1,2,3,4]\n",
        "l2=[2,3,4,5]\n",
        "list(map(lambda x,y:x+y,l1,l2))"
      ]
    },
    {
      "cell_type": "markdown",
      "metadata": {
        "id": "zR3o3DX9Bq-N"
      },
      "source": [
        "10. What is the difference between `map()`, `reduce()`, and `filter()` functions in Python?\n",
        "   - The map(), reduce(), and filter() functions in Python are all used for functional programming, allowing you to apply a function to a sequence of data. However, they differ in terms of their purpose, how they process the data, and the type of result they produce."
      ]
    },
    {
      "cell_type": "code",
      "execution_count": null,
      "metadata": {
        "colab": {
          "base_uri": "https://localhost:8080/"
        },
        "id": "RytJv053CbAw",
        "outputId": "88133b7e-03a9-462a-bf05-bf560d1bb485"
      },
      "outputs": [
        {
          "data": {
            "text/plain": [
              "[11, 12, 13, 14, 15]"
            ]
          },
          "execution_count": 43,
          "metadata": {},
          "output_type": "execute_result"
        }
      ],
      "source": [
        "# map() >> applies a given function to each item in an iterable (or iterables) and returns a map object (which is an iterator).\n",
        "def add(x):\n",
        "  return x+10\n",
        "list(map(lambda x:x+10,l))"
      ]
    },
    {
      "cell_type": "code",
      "execution_count": null,
      "metadata": {
        "colab": {
          "base_uri": "https://localhost:8080/"
        },
        "id": "tLRaJuj8C2-t",
        "outputId": "616bb584-743e-4180-919b-a8d9204d6489"
      },
      "outputs": [
        {
          "data": {
            "text/plain": [
              "15"
            ]
          },
          "execution_count": 44,
          "metadata": {},
          "output_type": "execute_result"
        }
      ],
      "source": [
        "# reuce()>> applies a binary function cumulatively to the items in an iterable, reducing the iterable to a single value.\n",
        "from functools import reduce\n",
        "l=[1,2,3,4,5]\n",
        "reduce(lambda x,y:x+y,l)\n"
      ]
    },
    {
      "cell_type": "code",
      "execution_count": null,
      "metadata": {
        "colab": {
          "base_uri": "https://localhost:8080/"
        },
        "id": "FNcpU3ZVDck2",
        "outputId": "6506fbad-bfd3-4b00-a33b-8396fe805982"
      },
      "outputs": [
        {
          "data": {
            "text/plain": [
              "[2, 4]"
            ]
          },
          "execution_count": 46,
          "metadata": {},
          "output_type": "execute_result"
        }
      ],
      "source": [
        "# filter()>> applies a function that returns True or False to each item in an iterable. It then returns a filter object (iterator) containing only the elements that evaluate to True.\n",
        "list(filter(lambda x:x%2==0,l))"
      ]
    },
    {
      "cell_type": "code",
      "execution_count": null,
      "metadata": {
        "colab": {
          "base_uri": "https://localhost:8080/"
        },
        "id": "kcuu9H1mKgQM",
        "outputId": "a773f68a-27f4-4414-fee7-0006e6ae1df5"
      },
      "outputs": [
        {
          "data": {
            "text/plain": [
              "30"
            ]
          },
          "execution_count": 50,
          "metadata": {},
          "output_type": "execute_result"
        }
      ],
      "source": [
        "#1\n",
        "l=[1,2,3,4,5,6,7,8,9,10]\n",
        "def cal_sum_even(l):\n",
        "  sum=0\n",
        "  for i in l:\n",
        "    if i%2==0:\n",
        "      sum+=i\n",
        "  return sum\n",
        "cal_sum_even(l)\n"
      ]
    },
    {
      "cell_type": "code",
      "execution_count": null,
      "metadata": {
        "colab": {
          "base_uri": "https://localhost:8080/",
          "height": 52
        },
        "id": "Kaz2xkStLH7f",
        "outputId": "204f305a-6aac-43f2-fa9c-40873f1b7309"
      },
      "outputs": [
        {
          "name": "stdout",
          "output_type": "stream",
          "text": [
            "enter a stingpw skills\n"
          ]
        },
        {
          "data": {
            "application/vnd.google.colaboratory.intrinsic+json": {
              "type": "string"
            },
            "text/plain": [
              "'slliks wp'"
            ]
          },
          "execution_count": 54,
          "metadata": {},
          "output_type": "execute_result"
        }
      ],
      "source": [
        "#2\n",
        "a=input(\"enter a sting\")\n",
        "def reverse_string(a):\n",
        "  return a[::-1]\n",
        "reverse_string(a)"
      ]
    },
    {
      "cell_type": "code",
      "execution_count": null,
      "metadata": {
        "colab": {
          "base_uri": "https://localhost:8080/"
        },
        "id": "hYREgvNgMyvE",
        "outputId": "4cccbfda-776f-48f9-981e-406da9781195"
      },
      "outputs": [
        {
          "data": {
            "text/plain": [
              "[2, 3, 4, 5, 6, 7]"
            ]
          },
          "execution_count": 56,
          "metadata": {},
          "output_type": "execute_result"
        }
      ],
      "source": [
        "l=[2,3,4,5,6,7]\n",
        "l\n"
      ]
    },
    {
      "cell_type": "code",
      "execution_count": null,
      "metadata": {
        "colab": {
          "base_uri": "https://localhost:8080/"
        },
        "id": "HE7-AkLLNwYX",
        "outputId": "33b897c3-f151-4bd4-fdef-2fd9c92f5dc5"
      },
      "outputs": [
        {
          "data": {
            "text/plain": [
              "[4, 9, 16, 25, 36, 49]"
            ]
          },
          "execution_count": 57,
          "metadata": {},
          "output_type": "execute_result"
        }
      ],
      "source": [
        "# 3\n",
        "def square_list(x):\n",
        "  return x*x\n",
        "list(map(lambda x:x*x,l))"
      ]
    },
    {
      "cell_type": "code",
      "execution_count": null,
      "metadata": {
        "colab": {
          "base_uri": "https://localhost:8080/"
        },
        "id": "rS6dwj1DTI2i",
        "outputId": "9be231db-3010-480b-e5c4-e20793400174"
      },
      "outputs": [
        {
          "data": {
            "text/plain": [
              "False"
            ]
          },
          "execution_count": 66,
          "metadata": {},
          "output_type": "execute_result"
        }
      ],
      "source": [
        "# 4\n",
        "def is_prime(num):\n",
        "    if num <= 1:\n",
        "        return False\n",
        "    for i in range(2, int(num ** 0.5) + 1):\n",
        "        if num % i == 0:\n",
        "            return False\n",
        "    return True\n",
        "is_prime(10)\n",
        "\n"
      ]
    },
    {
      "cell_type": "code",
      "execution_count": null,
      "metadata": {
        "colab": {
          "base_uri": "https://localhost:8080/"
        },
        "id": "_1LICLwIYAar",
        "outputId": "c09db614-e4d1-4a90-f12c-533213c215d6"
      },
      "outputs": [
        {
          "data": {
            "text/plain": [
              "1"
            ]
          },
          "execution_count": 68,
          "metadata": {},
          "output_type": "execute_result"
        }
      ],
      "source": [
        "def powers_of_two(max_exponent):\n",
        "    for exponent in range(max_exponent + 1):\n",
        "        yield 2 ** exponent\n",
        "gen=powers_of_two(5)\n",
        "next(gen)"
      ]
    },
    {
      "cell_type": "code",
      "execution_count": null,
      "metadata": {
        "colab": {
          "base_uri": "https://localhost:8080/"
        },
        "id": "JCJAtgzUaUP8",
        "outputId": "dffe5dc0-0a2c-42ac-8d50-641df1eb4a8e"
      },
      "outputs": [
        {
          "data": {
            "text/plain": [
              "2"
            ]
          },
          "execution_count": 69,
          "metadata": {},
          "output_type": "execute_result"
        }
      ],
      "source": [
        "next(gen)"
      ]
    },
    {
      "cell_type": "code",
      "execution_count": null,
      "metadata": {
        "colab": {
          "base_uri": "https://localhost:8080/"
        },
        "id": "5W1bW-dCaxvX",
        "outputId": "14a27b86-41fd-456d-9bd7-758044d2c443"
      },
      "outputs": [
        {
          "data": {
            "text/plain": [
              "4"
            ]
          },
          "execution_count": 70,
          "metadata": {},
          "output_type": "execute_result"
        }
      ],
      "source": [
        "next(gen)"
      ]
    },
    {
      "cell_type": "code",
      "execution_count": null,
      "metadata": {
        "colab": {
          "base_uri": "https://localhost:8080/"
        },
        "id": "uf1gzNSQa1dI",
        "outputId": "a1472d38-469b-48ba-ac2c-e05b5a92414b"
      },
      "outputs": [
        {
          "data": {
            "text/plain": [
              "8"
            ]
          },
          "execution_count": 71,
          "metadata": {},
          "output_type": "execute_result"
        }
      ],
      "source": [
        "next(gen)"
      ]
    },
    {
      "cell_type": "code",
      "execution_count": null,
      "metadata": {
        "colab": {
          "base_uri": "https://localhost:8080/"
        },
        "id": "lPbBvX6xhr47",
        "outputId": "bb7aa26b-feab-4085-bdbe-aa555bcd5f4a"
      },
      "outputs": [
        {
          "name": "stdout",
          "output_type": "stream",
          "text": [
            "[(5, 0), (4, 1), (2, 2), (1, 3)]\n"
          ]
        }
      ],
      "source": [
        "# Sample list of tuples\n",
        "tuples_list = [(1, 3), (4, 1), (2, 2), (5, 0)]\n",
        "sorted_list = sorted(tuples_list, key=lambda x: x[1])\n",
        "print(sorted_list)\n"
      ]
    },
    {
      "cell_type": "code",
      "execution_count": null,
      "metadata": {
        "colab": {
          "base_uri": "https://localhost:8080/"
        },
        "id": "_tjPG-ZjjaK4",
        "outputId": "ee5a0586-3fa6-4808-cb37-7ddd0d30482b"
      },
      "outputs": [
        {
          "name": "stdout",
          "output_type": "stream",
          "text": [
            "[32.0, 68.0, 86.0, 104.0, 212.0]\n"
          ]
        }
      ],
      "source": [
        "def celsius_to_fahrenheit(celsius):\n",
        "    return (celsius * 9/5) + 32\n",
        "celsius_temperatures = [0, 20, 30, 40, 100]\n",
        "fahrenheit_temperatures = list(map(celsius_to_fahrenheit, celsius_temperatures))\n",
        "print(fahrenheit_temperatures)\n"
      ]
    },
    {
      "cell_type": "code",
      "source": [
        "\n",
        "def is_not_vowel(char):\n",
        "    vowels = 'aeiouAEIOU'\n",
        "    return char not in vowels\n",
        "input_string = \"Hello, World!\"\n",
        "result = ''.join(filter(is_not_vowel, input_string))\n",
        "print(result)\n"
      ],
      "metadata": {
        "colab": {
          "base_uri": "https://localhost:8080/"
        },
        "id": "Q4rIOCD4qiCY",
        "outputId": "89c5c22c-b691-4038-e6e3-e74f4caedeea"
      },
      "execution_count": null,
      "outputs": [
        {
          "output_type": "stream",
          "name": "stdout",
          "text": [
            "Hll, Wrld!\n"
          ]
        }
      ]
    },
    {
      "cell_type": "code",
      "source": [
        "# Sample list with sublists in the specified format\n",
        "orders = [\n",
        "    [34587, \"Learning Python, Mark Lutz\", 4, 40.95],\n",
        "    [98762, \"Programming Python, Mark Lutz\", 5, 56.80],\n",
        "    [77226, \"Head First Python, Paul Barry\", 3, 32.95],\n",
        "    [88112, \"Einführung in Python3, Bernd Klein\", 3, 24.99]\n",
        "]\n",
        "calculate_order_value = lambda order: (\n",
        "    order[0], order[2] * order[3] + (10 if order[2] * order[3] < 100 else 0))\n",
        "adjusted_orders = list(map(calculate_order_value, orders))\n",
        "print(adjusted_orders)\n"
      ],
      "metadata": {
        "colab": {
          "base_uri": "https://localhost:8080/"
        },
        "id": "kEA39IBytzBN",
        "outputId": "6455c929-0d34-4ed9-90ab-177d9ce37900"
      },
      "execution_count": 2,
      "outputs": [
        {
          "output_type": "stream",
          "name": "stdout",
          "text": [
            "[(34587, 163.8), (98762, 284.0), (77226, 108.85000000000001), (88112, 84.97)]\n"
          ]
        }
      ]
    }
  ],
  "metadata": {
    "colab": {
      "provenance": []
    },
    "kernelspec": {
      "display_name": "Python 3",
      "name": "python3"
    },
    "language_info": {
      "name": "python"
    }
  },
  "nbformat": 4,
  "nbformat_minor": 0
}